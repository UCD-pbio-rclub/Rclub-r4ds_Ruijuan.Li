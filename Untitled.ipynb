{
 "cells": [
  {
   "cell_type": "code",
   "execution_count": 19,
   "metadata": {},
   "outputs": [
    {
     "data": {
      "text/plain": [
       "list"
      ]
     },
     "execution_count": 19,
     "metadata": {},
     "output_type": "execute_result"
    }
   ],
   "source": [
    "a=[[1,2],[3,4],[1,1]]\n",
    "type(a)"
   ]
  },
  {
   "cell_type": "code",
   "execution_count": 8,
   "metadata": {},
   "outputs": [
    {
     "data": {
      "text/plain": [
       "[5, 7]"
      ]
     },
     "execution_count": 8,
     "metadata": {},
     "output_type": "execute_result"
    }
   ],
   "source": [
    "map(sum,zip(*a))"
   ]
  },
  {
   "cell_type": "code",
   "execution_count": 28,
   "metadata": {},
   "outputs": [
    {
     "data": {
      "text/plain": [
       "[0, 1]"
      ]
     },
     "execution_count": 28,
     "metadata": {},
     "output_type": "execute_result"
    }
   ],
   "source": [
    "b = \"UD\"\n",
    "list(b)\n",
    "U1 = [0, 1]\n",
    "U2 = \"U\"\n",
    "U2 = U1\n",
    "U1 \n",
    "# \"U\"\n",
    "# [0, -1] = \"D\"\n",
    "# [1, 0] = \"L\"\n",
    "# [-1, 0] = \"R\""
   ]
  },
  {
   "cell_type": "code",
   "execution_count": 32,
   "metadata": {},
   "outputs": [
    {
     "data": {
      "text/plain": [
       "['U', 'D', 'L', 'L', 'L', 'R', 'R', 'R']"
      ]
     },
     "execution_count": 32,
     "metadata": {},
     "output_type": "execute_result"
    }
   ],
   "source": [
    "moves = \"UDLLLRRR\"\n",
    "moves\n",
    "C = list(moves)\n",
    "C"
   ]
  },
  {
   "cell_type": "code",
   "execution_count": 33,
   "metadata": {
    "collapsed": true
   },
   "outputs": [],
   "source": [
    "class Solution(object):\n",
    "    def judgeCircle(self, moves):\n",
    "        \"\"\"\n",
    "        :type moves: str\n",
    "        :rtype: bool\n",
    "        \"\"\"\n",
    "        UL = [0, 1]\n",
    "        DL = [0, -1]\n",
    "        LL = [1, 0]\n",
    "        RL = [-1, 0]\n",
    "        UC = \"U\"\n",
    "        DC = \"D\"\n",
    "        LC = \"L\"\n",
    "        RC = \"R\"\n",
    "        \n",
    "        C = list(moves)\n",
    "        C1 = [UL if x==UC else x for x in C]\n",
    "        C2 = [DL if x==DC else x for x in C1]\n",
    "        C3 = [LL if x==\"LC else x for x in C2]\n",
    "        C4 = [RL if x==\"RC\" else x for x in C3]\n",
    "        \n",
    "        return map(sum,zip(*C4))"
   ]
  },
  {
   "cell_type": "code",
   "execution_count": 54,
   "metadata": {},
   "outputs": [
    {
     "data": {
      "text/plain": [
       "[1, 2, 3, 4, 10, 22, 23, 200]"
      ]
     },
     "execution_count": 54,
     "metadata": {},
     "output_type": "execute_result"
    }
   ],
   "source": [
    "list1=[1,10,3,22,23,4,2,200]\n",
    "list2 = sorted(list1)\n",
    "list2"
   ]
  },
  {
   "cell_type": "code",
   "execution_count": 68,
   "metadata": {},
   "outputs": [
    {
     "data": {
      "text/plain": [
       "37"
      ]
     },
     "execution_count": 68,
     "metadata": {},
     "output_type": "execute_result"
    }
   ],
   "source": [
    "min_list2 = [min(list2[i:i+1]) for i in range(0, len(list2), 2)]\n",
    "sum(min_list2)"
   ]
  },
  {
   "cell_type": "code",
   "execution_count": 56,
   "metadata": {},
   "outputs": [
    {
     "data": {
      "text/plain": [
       "8"
      ]
     },
     "execution_count": 56,
     "metadata": {},
     "output_type": "execute_result"
    }
   ],
   "source": [
    "sum"
   ]
  },
  {
   "cell_type": "code",
   "execution_count": 65,
   "metadata": {},
   "outputs": [
    {
     "name": "stdout",
     "output_type": "stream",
     "text": [
      "[3]\n"
     ]
    }
   ],
   "source": [
    "print list2[2:2+1]"
   ]
  },
  {
   "cell_type": "code",
   "execution_count": null,
   "metadata": {
    "collapsed": true
   },
   "outputs": [],
   "source": []
  }
 ],
 "metadata": {
  "kernelspec": {
   "display_name": "Python 2",
   "language": "python",
   "name": "python2"
  },
  "language_info": {
   "codemirror_mode": {
    "name": "ipython",
    "version": 2
   },
   "file_extension": ".py",
   "mimetype": "text/x-python",
   "name": "python",
   "nbconvert_exporter": "python",
   "pygments_lexer": "ipython2",
   "version": "2.7.13"
  }
 },
 "nbformat": 4,
 "nbformat_minor": 2
}
